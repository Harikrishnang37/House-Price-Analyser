{
  "nbformat": 4,
  "nbformat_minor": 0,
  "metadata": {
    "colab": {
      "name": "House_price_Analysis.ipynb",
      "provenance": [],
      "authorship_tag": "ABX9TyNAaUp2BQKMfOGbGHIWeidK",
      "include_colab_link": true
    },
    "kernelspec": {
      "name": "python3",
      "display_name": "Python 3"
    },
    "language_info": {
      "name": "python"
    }
  },
  "cells": [
    {
      "cell_type": "markdown",
      "metadata": {
        "id": "view-in-github",
        "colab_type": "text"
      },
      "source": [
        "<a href=\"https://colab.research.google.com/github/Harikrishnang37/House-Price-Analyser/blob/main/House_price_Analysis.ipynb\" target=\"_parent\"><img src=\"https://colab.research.google.com/assets/colab-badge.svg\" alt=\"Open In Colab\"/></a>"
      ]
    },
    {
      "cell_type": "markdown",
      "source": [
        "This Project uses linear regression models to analyse data and predict the price for a house depending on the given factors."
      ],
      "metadata": {
        "id": "a0Poda47uG8T"
      }
    },
    {
      "cell_type": "code",
      "source": [
        "# Let us first  import the required Libraries.\n",
        "\n",
        "import matplotlib.pyplot as plt\n",
        "import pandas as pd\n",
        "import numpy as np\n",
        "%matplotlib inline"
      ],
      "metadata": {
        "id": "DggGHyN2vmbk"
      },
      "execution_count": 2,
      "outputs": []
    },
    {
      "cell_type": "markdown",
      "source": [
        "The data is taken from ..."
      ],
      "metadata": {
        "id": "qm8yGrQHvsI9"
      }
    },
    {
      "cell_type": "code",
      "source": [
        "# First, let us acquire the data. \n",
        "\n",
        "file_name='https://cf-courses-data.s3.us.cloud-object-storage.appdomain.cloud/IBMDeveloperSkillsNetwork-DA0101EN-SkillsNetwork/labs/FinalModule_Coursera/data/kc_house_data_NaN.csv'\n",
        "dff=pd.read_csv(file_name)\n"
      ],
      "metadata": {
        "id": "fZjbefiZuTyH"
      },
      "execution_count": 3,
      "outputs": []
    },
    {
      "cell_type": "markdown",
      "source": [
        "**House Price with respect to square feet.**"
      ],
      "metadata": {
        "id": "ohEAXtgYvHEt"
      }
    },
    {
      "cell_type": "code",
      "source": [
        "cdf = dff[['price','sqft_living']]\n",
        "\n",
        "from sklearn.model_selection import train_test_split\n",
        "X_train1,X_test1,y_train1,y_test1=train_test_split(cdf,cdf,test_size=.2,random_state=4);\n",
        "\n",
        "from sklearn import linear_model\n",
        "regr = linear_model.LinearRegression()\n",
        "train_x1 = np.asanyarray(X_train1[['price']])\n",
        "train_y1 = np.asanyarray(X_train1[['sqft_living']])\n",
        "regr.fit(train_x1, train_y1)\n",
        "# The coefficients\n",
        "print ('Coefficients: ', regr.coef_)\n",
        "print ('Intercept: ',regr.intercept_)\n",
        "\n",
        "plt.scatter(X_train1.price, X_train1.sqft_living,  color='blue')\n",
        "plt.plot(train_x1, regr.coef_[0][0]*train_x1 + regr.intercept_[0], '-r')\n",
        "plt.xlabel(\"Squarefeet of living area\")\n",
        "plt.ylabel(\"Price\")"
      ],
      "metadata": {
        "colab": {
          "base_uri": "https://localhost:8080/",
          "height": 331
        },
        "id": "_caJKEDUvRUb",
        "outputId": "fe9dd6ef-0d2f-44a9-f035-153ca4439033"
      },
      "execution_count": 4,
      "outputs": [
        {
          "output_type": "stream",
          "name": "stdout",
          "text": [
            "Coefficients:  [[0.00175697]]\n",
            "Intercept:  [1129.51989029]\n"
          ]
        },
        {
          "output_type": "execute_result",
          "data": {
            "text/plain": [
              "Text(0, 0.5, 'Price')"
            ]
          },
          "metadata": {},
          "execution_count": 4
        },
        {
          "output_type": "display_data",
          "data": {
            "text/plain": [
              "<Figure size 432x288 with 1 Axes>"
            ],
            "image/png": "[encoded data removed]"
          },
          "metadata": {
            "needs_background": "light"
          }
        }
      ]
    },
    {
      "cell_type": "markdown",
      "source": [
        "Let us now see the accuracy of these results\n"
      ],
      "metadata": {
        "id": "tjEizLZFUJJV"
      }
    },
    {
      "cell_type": "code",
      "source": [
        "test_x = np.asanyarray(X_test1[['sqft_living']])\n",
        "test_y = np.asanyarray(X_test1[['price']])\n",
        "test_y_ = regr.predict(test_x)\n",
        "mae= np.mean(np.absolute(test_y_ - test_y))\n",
        "mae_=mae/21612\n",
        "mse=np.mean((test_y_ - test_y) ** 2)\n",
        "mse_=mse/21612\n",
        "print(\"Mean absolute error: \" , mae_)\n",
        "print(\"Residual sum of squares (MSE): \" ,mse_)"
      ],
      "metadata": {
        "colab": {
          "base_uri": "https://localhost:8080/"
        },
        "id": "Cq9ZFMOtUOwP",
        "outputId": "7b3113f5-6ca8-42c8-fa0e-d4c6d0fd0334"
      },
      "execution_count": 6,
      "outputs": [
        {
          "output_type": "stream",
          "name": "stdout",
          "text": [
            "Mean absolute error:  24.99798998701966\n",
            "Residual sum of squares (MSE):  19489893.513140928\n"
          ]
        }
      ]
    },
    {
      "cell_type": "markdown",
      "source": [
        "**House Price with respect to Basement area.**"
      ],
      "metadata": {
        "id": "pPSvzIgAwRwH"
      }
    },
    {
      "cell_type": "code",
      "source": [
        "cdf = dff[['price','sqft_basement']]\n",
        "\n",
        "from sklearn.model_selection import train_test_split\n",
        "X_train1,X_test1,y_train1,y_test1=train_test_split(cdf,cdf,test_size=.2,random_state=4);\n",
        "\n",
        "from sklearn import linear_model\n",
        "regr = linear_model.LinearRegression()\n",
        "train_x1 = np.asanyarray(X_train1[['sqft_basement']])\n",
        "train_y1 = np.asanyarray(X_train1[['price']])\n",
        "regr.fit(train_x1, train_y1)\n",
        "# The coefficients\n",
        "print ('Coefficients: ', regr.coef_)\n",
        "print ('Intercept: ',regr.intercept_)\n",
        "\n",
        "plt.scatter(X_train1.sqft_basement, X_train1.price\t,  color='blue')\n",
        "plt.plot(train_x1, regr.coef_[0][0]*train_x1 + regr.intercept_[0], '-r')\n",
        "plt.xlabel(\"Area of basement\")\n",
        "plt.ylabel(\"Price\")"
      ],
      "metadata": {
        "colab": {
          "base_uri": "https://localhost:8080/",
          "height": 342
        },
        "id": "arBA5A_HxL2f",
        "outputId": "c0aa99ae-4672-467c-b66d-9f5061d96b2c"
      },
      "execution_count": 7,
      "outputs": [
        {
          "output_type": "stream",
          "name": "stdout",
          "text": [
            "Coefficients:  [[273.29121377]]\n",
            "Intercept:  [459646.53758894]\n"
          ]
        },
        {
          "output_type": "execute_result",
          "data": {
            "text/plain": [
              "Text(0, 0.5, 'Price')"
            ]
          },
          "metadata": {},
          "execution_count": 7
        },
        {
          "output_type": "display_data",
          "data": {
            "text/plain": [
              "<Figure size 432x288 with 1 Axes>"
            ],
            "image/png": "[encoded data removed]"
          },
          "metadata": {
            "needs_background": "light"
          }
        }
      ]
    },
    {
      "cell_type": "markdown",
      "source": [
        "Let us now see the accuracy of these results\n"
      ],
      "metadata": {
        "id": "yvDIE4eMVUB3"
      }
    },
    {
      "cell_type": "code",
      "source": [
        "test_x = np.asanyarray(X_test1[['sqft_basement']])\n",
        "test_y = np.asanyarray(X_test1[['price']])\n",
        "test_y_ = regr.predict(test_x)\n",
        "mae= np.mean(np.absolute(test_y_ - test_y))\n",
        "mae_=mae/21612\n",
        "mse=np.mean((test_y_ - test_y) ** 2)\n",
        "mse_=mse/21612\n",
        "print(\"Mean absolute error: \" , mae_)\n",
        "print(\"Residual sum of squares (MSE): \" ,mse_)"
      ],
      "metadata": {
        "colab": {
          "base_uri": "https://localhost:8080/"
        },
        "id": "ROXuzuVXVag0",
        "outputId": "b1150e32-1685-4270-c73e-aaa5f58d679b"
      },
      "execution_count": 8,
      "outputs": [
        {
          "output_type": "stream",
          "name": "stdout",
          "text": [
            "Mean absolute error:  10.299985373698712\n",
            "Residual sum of squares (MSE):  5428143.786726114\n"
          ]
        }
      ]
    },
    {
      "cell_type": "markdown",
      "source": [
        "**Price with respect to Grade**"
      ],
      "metadata": {
        "id": "YsqL497Hzd0g"
      }
    },
    {
      "cell_type": "code",
      "source": [
        "cdf = dff[['price','grade']]\n",
        "\n",
        "from sklearn.model_selection import train_test_split\n",
        "X_train1,X_test1,y_train1,y_test1=train_test_split(cdf,cdf,test_size=.2,random_state=4);\n",
        "\n",
        "from sklearn import linear_model\n",
        "regr = linear_model.LinearRegression()\n",
        "train_x1 = np.asanyarray(X_train1[['grade']])\n",
        "train_y1 = np.asanyarray(X_train1[['price']])\n",
        "regr.fit(train_x1, train_y1)\n",
        "# The coefficients\n",
        "print ('Coefficients: ', regr.coef_)\n",
        "print ('Intercept: ',regr.intercept_)\n",
        "\n",
        "plt.scatter(X_train1.grade, X_train1.price\t,  color='blue')\n",
        "plt.plot(train_x1, regr.coef_[0][0]*train_x1 + regr.intercept_[0], '-r')\n",
        "plt.xlabel(\"Grade allotted\")\n",
        "plt.ylabel(\"Price\")"
      ],
      "metadata": {
        "colab": {
          "base_uri": "https://localhost:8080/",
          "height": 342
        },
        "id": "cTfP_zUQzqQU",
        "outputId": "6237d046-a6bb-46ca-b8e5-e7ab890bba90"
      },
      "execution_count": 9,
      "outputs": [
        {
          "output_type": "stream",
          "name": "stdout",
          "text": [
            "Coefficients:  [[209349.23305535]]\n",
            "Intercept:  [-1062636.76835037]\n"
          ]
        },
        {
          "output_type": "execute_result",
          "data": {
            "text/plain": [
              "Text(0, 0.5, 'Price')"
            ]
          },
          "metadata": {},
          "execution_count": 9
        },
        {
          "output_type": "display_data",
          "data": {
            "text/plain": [
              "<Figure size 432x288 with 1 Axes>"
            ],
            "image/png": "[encoded data removed]"
          },
          "metadata": {
            "needs_background": "light"
          }
        }
      ]
    },
    {
      "cell_type": "markdown",
      "source": [
        "Let us now see the accuracy of these results\n"
      ],
      "metadata": {
        "id": "gD_qI5XzV2KM"
      }
    },
    {
      "cell_type": "code",
      "source": [
        "test_x = np.asanyarray(X_test1[['grade']])\n",
        "test_y = np.asanyarray(X_test1[['price']])\n",
        "test_y_ = regr.predict(test_x)\n",
        "mae= np.mean(np.absolute(test_y_ - test_y))\n",
        "mae_=mae/21612\n",
        "mse=np.mean((test_y_ - test_y) ** 2)\n",
        "mse_=mse/21612\n",
        "print(\"Mean absolute error: \" , mae_)\n",
        "print(\"Residual sum of squares (MSE): \" ,mse_)"
      ],
      "metadata": {
        "colab": {
          "base_uri": "https://localhost:8080/"
        },
        "id": "cCfzonPVV4jJ",
        "outputId": "fdeaf9ee-8181-4d14-ee84-678fe714a078"
      },
      "execution_count": 10,
      "outputs": [
        {
          "output_type": "stream",
          "name": "stdout",
          "text": [
            "Mean absolute error:  8.068435851555488\n",
            "Residual sum of squares (MSE):  3327008.8610192053\n"
          ]
        }
      ]
    },
    {
      "cell_type": "markdown",
      "source": [
        "**House Price with respect to Zipcode**"
      ],
      "metadata": {
        "id": "CaqFzKa30RRX"
      }
    },
    {
      "cell_type": "code",
      "source": [
        "cdf = dff[['price','zipcode']]\n",
        "\n",
        "from sklearn.model_selection import train_test_split\n",
        "X_train1,X_test1,y_train1,y_test1=train_test_split(cdf,cdf,test_size=.2,random_state=4);\n",
        "\n",
        "from sklearn import linear_model\n",
        "regr = linear_model.LinearRegression()\n",
        "train_x1 = np.asanyarray(X_train1[['zipcode']])\n",
        "train_y1 = np.asanyarray(X_train1[['price']])\n",
        "regr.fit(train_x1, train_y1)\n",
        "# The coefficients\n",
        "print ('Coefficients: ', regr.coef_)\n",
        "print ('Intercept: ',regr.intercept_)\n",
        "\n",
        "plt.scatter(X_train1.zipcode, X_train1.price\t,  color='blue')\n",
        "plt.plot(train_x1, regr.coef_[0][0]*train_x1 + regr.intercept_[0], '-r')\n",
        "plt.xlabel(\"Zipcode\")\n",
        "plt.ylabel(\"Price\")"
      ],
      "metadata": {
        "colab": {
          "base_uri": "https://localhost:8080/",
          "height": 342
        },
        "id": "5ywo_NlH0c7y",
        "outputId": "4a2c0e9b-cbdb-4df7-e1c9-3b08a2e38cd3"
      },
      "execution_count": 11,
      "outputs": [
        {
          "output_type": "stream",
          "name": "stdout",
          "text": [
            "Coefficients:  [[-351.73348687]]\n",
            "Intercept:  [35037066.09994958]\n"
          ]
        },
        {
          "output_type": "execute_result",
          "data": {
            "text/plain": [
              "Text(0, 0.5, 'Price')"
            ]
          },
          "metadata": {},
          "execution_count": 11
        },
        {
          "output_type": "display_data",
          "data": {
            "text/plain": [
              "<Figure size 432x288 with 1 Axes>"
            ],
            "image/png": "[encoded data removed]"
          },
          "metadata": {
            "needs_background": "light"
          }
        }
      ]
    },
    {
      "cell_type": "markdown",
      "source": [
        "Let us now see the accuracy of these results\n"
      ],
      "metadata": {
        "id": "58Rn4G4gWHY0"
      }
    },
    {
      "cell_type": "code",
      "source": [
        "test_x = np.asanyarray(X_test1[['zipcode']])\n",
        "test_y = np.asanyarray(X_test1[['price']])\n",
        "test_y_ = regr.predict(test_x)\n",
        "mae= np.mean(np.absolute(test_y_ - test_y))\n",
        "mae_=mae/21612\n",
        "mse=np.mean((test_y_ - test_y) ** 2)\n",
        "mse_=mse/21612\n",
        "print(\"Mean absolute error: \" , mae_)\n",
        "print(\"Residual sum of squares (MSE): \" ,mse_)"
      ],
      "metadata": {
        "colab": {
          "base_uri": "https://localhost:8080/"
        },
        "id": "45X9IHOWWJY6",
        "outputId": "631881ad-4420-48d7-b244-53861d79e0ee"
      },
      "execution_count": 12,
      "outputs": [
        {
          "output_type": "stream",
          "name": "stdout",
          "text": [
            "Mean absolute error:  10.690489922270002\n",
            "Residual sum of squares (MSE):  5962089.263198759\n"
          ]
        }
      ]
    },
    {
      "cell_type": "markdown",
      "source": [
        "**House Price with respect to squarefeet excluding basement**"
      ],
      "metadata": {
        "id": "K_zNnjXn1B71"
      }
    },
    {
      "cell_type": "code",
      "source": [
        "cdf = dff[['price','sqft_above']]\n",
        "\n",
        "from sklearn.model_selection import train_test_split\n",
        "X_train1,X_test1,y_train1,y_test1=train_test_split(cdf,cdf,test_size=.2,random_state=4);\n",
        "\n",
        "from sklearn import linear_model\n",
        "regr = linear_model.LinearRegression()\n",
        "train_x1 = np.asanyarray(X_train1[['sqft_above']])\n",
        "train_y1 = np.asanyarray(X_train1[['price']])\n",
        "regr.fit(train_x1, train_y1)\n",
        "# The coefficients\n",
        "print ('Coefficients: ', regr.coef_)\n",
        "print ('Intercept: ',regr.intercept_)\n",
        "\n",
        "plt.scatter(X_train1.sqft_above, X_train1.price ,  color='blue')\n",
        "plt.plot(train_x1, regr.coef_[0][0]*train_x1 + regr.intercept_[0], '-r')\n",
        "plt.xlabel(\"Squarefeet excluding basement\")\n",
        "plt.ylabel(\"Price\")"
      ],
      "metadata": {
        "colab": {
          "base_uri": "https://localhost:8080/",
          "height": 342
        },
        "id": "7gUxjTxY1Iq5",
        "outputId": "4a08152a-ee71-4be3-e319-8d494d1c4e50"
      },
      "execution_count": 13,
      "outputs": [
        {
          "output_type": "stream",
          "name": "stdout",
          "text": [
            "Coefficients:  [[271.07584553]]\n",
            "Intercept:  [55969.4706309]\n"
          ]
        },
        {
          "output_type": "execute_result",
          "data": {
            "text/plain": [
              "Text(0, 0.5, 'Price')"
            ]
          },
          "metadata": {},
          "execution_count": 13
        },
        {
          "output_type": "display_data",
          "data": {
            "text/plain": [
              "<Figure size 432x288 with 1 Axes>"
            ],
            "image/png": "[encoded data removed]"
          },
          "metadata": {
            "needs_background": "light"
          }
        }
      ]
    },
    {
      "cell_type": "markdown",
      "source": [
        "Let us now see the accuracy of these results\n"
      ],
      "metadata": {
        "id": "ThhEi7mrWSzb"
      }
    },
    {
      "cell_type": "code",
      "source": [
        "test_x = np.asanyarray(X_test1[['sqft_above']])\n",
        "test_y = np.asanyarray(X_test1[['price']])\n",
        "test_y_ = regr.predict(test_x)\n",
        "mae= np.mean(np.absolute(test_y_ - test_y))\n",
        "mae_=mae/21612\n",
        "mse=np.mean((test_y_ - test_y) ** 2)\n",
        "mse_=mse/21612\n",
        "print(\"Mean absolute error: \" , mae_)\n",
        "print(\"Residual sum of squares (MSE): \" ,mse_)"
      ],
      "metadata": {
        "colab": {
          "base_uri": "https://localhost:8080/"
        },
        "id": "0bz0Q7mmWUhr",
        "outputId": "d8e3592f-5a62-40c7-ab09-14b3e279245f"
      },
      "execution_count": 14,
      "outputs": [
        {
          "output_type": "stream",
          "name": "stdout",
          "text": [
            "Mean absolute error:  8.886927410032648\n",
            "Residual sum of squares (MSE):  3861869.264663948\n"
          ]
        }
      ]
    }
  ]
}